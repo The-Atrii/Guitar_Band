{
 "cells": [
  {
   "cell_type": "code",
   "execution_count": 1,
   "id": "7c780dd3",
   "metadata": {},
   "outputs": [],
   "source": [
    "from playsound import playsound"
   ]
  },
  {
   "cell_type": "code",
   "execution_count": 2,
   "id": "554ffa18",
   "metadata": {},
   "outputs": [],
   "source": [
    "file = open(\"song.txt\", \"r\")"
   ]
  },
  {
   "cell_type": "code",
   "execution_count": 9,
   "id": "2894342c",
   "metadata": {},
   "outputs": [
    {
     "ename": "ValueError",
     "evalue": "I/O operation on closed file.",
     "output_type": "error",
     "traceback": [
      "\u001b[0;31m---------------------------------------------------------------------------\u001b[0m",
      "\u001b[0;31mValueError\u001b[0m                                Traceback (most recent call last)",
      "Input \u001b[0;32mIn [9]\u001b[0m, in \u001b[0;36m<cell line: 2>\u001b[0;34m()\u001b[0m\n\u001b[1;32m      1\u001b[0m tmp_line \u001b[38;5;241m=\u001b[39m line \u001b[38;5;241m=\u001b[39m \u001b[38;5;124m\"\u001b[39m\u001b[38;5;124m\"\u001b[39m\n\u001b[1;32m      2\u001b[0m \u001b[38;5;28;01mwhile\u001b[39;00m (\u001b[38;5;241m1\u001b[39m):\n\u001b[0;32m----> 3\u001b[0m     tmp_line \u001b[38;5;241m=\u001b[39m \u001b[43mfile\u001b[49m\u001b[38;5;241;43m.\u001b[39;49m\u001b[43mreadline\u001b[49m\u001b[43m(\u001b[49m\u001b[43m)\u001b[49m\n\u001b[1;32m      4\u001b[0m     \u001b[38;5;28;01mif\u001b[39;00m (\u001b[38;5;129;01mnot\u001b[39;00m tmp_line):\n\u001b[1;32m      5\u001b[0m         \u001b[38;5;28;01mbreak\u001b[39;00m\n",
      "\u001b[0;31mValueError\u001b[0m: I/O operation on closed file."
     ]
    }
   ],
   "source": [
    "tmp_line = line = \"\"\n",
    "while (1):\n",
    "    tmp_line = file.readline()\n",
    "    if (not tmp_line):\n",
    "        break\n",
    "    print(tmp_line.strip())\n",
    "    line += tmp_line"
   ]
  },
  {
   "cell_type": "code",
   "execution_count": 8,
   "id": "f0c0f189",
   "metadata": {},
   "outputs": [
    {
     "name": "stdout",
     "output_type": "stream",
     "text": [
      "['Dm', 'Am', 'C', 'E', 'G', 'G']\n"
     ]
    }
   ],
   "source": [
    "l = line.split()\n",
    "\n",
    "#l = [line.rstrip() for line in l]\n",
    "\n",
    "#print(line.split(), \"\\n\\n\", l)\n",
    "print(l)"
   ]
  },
  {
   "cell_type": "code",
   "execution_count": 5,
   "id": "14ec5eb6",
   "metadata": {},
   "outputs": [
    {
     "name": "stdout",
     "output_type": "stream",
     "text": [
      "\n",
      " I am playing chord  Dm.mp3\n",
      "\n",
      "  Sucsess =  Dm\n",
      "\n",
      " I am playing chord  Am.mp3\n",
      "\n",
      "  Sucsess =  Am\n",
      "\n",
      " I am playing chord  C.mp3\n",
      "\n",
      "  Sucsess =  C\n",
      "\n",
      " I am playing chord  E.mp3\n",
      "\n",
      "  Sucsess =  E\n",
      "\n",
      " I am playing chord  G.mp3\n",
      "\n",
      "  Sucsess =  G\n",
      "\n",
      " I am playing chord  G.mp3\n",
      "\n",
      "  Sucsess =  G\n"
     ]
    }
   ],
   "source": [
    "i = 0\n",
    "for i in range(len(l)):\n",
    "    if (l[i] == 'AM' or 'Am' or 'aM' or 'am') :\n",
    "        playsound(l[i]+\".mp3\", True)\n",
    "        print(\"\\n I am playing chord \", l[i] + \".mp3\\n\")\n",
    "    elif (l[i] == 'DM' or 'Dm' or 'dM' or 'dm') :\n",
    "        playsound(l[i]+\".mp3\", True)\n",
    "        print(\"\\n I am playing chord \", l[i] + \".mp3\\n\")\n",
    "    elif (l[i] == 'C' or 'c') :\n",
    "        playsound('C.mp3', True)\n",
    "        print(\"\\n I am playing chord \", l[i] + \".mp3\\n\")\n",
    "    elif (l[i] == 'G' or 'g') :\n",
    "        playsound('G.mp3', True)\n",
    "        print(\"\\n I am playing chord \", l[i] + \".mp3\\n\")\n",
    "    elif (l[i] == 'E' or 'e') :\n",
    "        playsound('E.mp3', True)\n",
    "        print(\"\\n I am playing chord \", l[i] + \".mp3\\n\")\n",
    "    else:\n",
    "        pass\n",
    "    print(\"  Sucsess = \", l[i])\n",
    "    i += 1"
   ]
  },
  {
   "cell_type": "code",
   "execution_count": 6,
   "id": "504c6ee5",
   "metadata": {},
   "outputs": [],
   "source": [
    "file.close()"
   ]
  },
  {
   "cell_type": "code",
   "execution_count": null,
   "id": "c581d6f6",
   "metadata": {},
   "outputs": [],
   "source": []
  }
 ],
 "metadata": {
  "kernelspec": {
   "display_name": "Python 3 (ipykernel)",
   "language": "python",
   "name": "python3"
  },
  "language_info": {
   "codemirror_mode": {
    "name": "ipython",
    "version": 3
   },
   "file_extension": ".py",
   "mimetype": "text/x-python",
   "name": "python",
   "nbconvert_exporter": "python",
   "pygments_lexer": "ipython3",
   "version": "3.10.5"
  }
 },
 "nbformat": 4,
 "nbformat_minor": 5
}
